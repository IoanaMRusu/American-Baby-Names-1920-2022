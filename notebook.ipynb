-- Table: public.baby_names

-- DROP TABLE IF EXISTS public.baby_names;

CREATE TABLE IF NOT EXISTS public.baby_names
(
    year integer,
    first_name character varying COLLATE pg_catalog."default",
    sex character varying COLLATE pg_catalog."default",
    num integer
)

TABLESPACE pg_default;

ALTER TABLE IF EXISTS public.baby_names
    OWNER to postgres;

-- Let's verify the data

SELECT *
FROM baby_names
LIMIT 10;

-- 1. Classic American names
-- Let's find names that have been given to over 5,000 babies of either sex every year from 1920 through 2022; 

SELECT first_name, SUM(num)
FROM baby_names
GROUP BY first_name
HAVING count(distinct year)>=103
ORDER BY SUM(num) DESC;

-- 2. Timeless or trendy?
-- Let's broaden our understanding of the dataset by looking at all names. 
-- We'll attempt to capture the type of popularity that each name in the dataset enjoyed. 
-- Was the name classic and popular across many years or trendy, only popular for a few years?

SELECT first_name, SUM(num),
        CASE WHEN COUNT(first_name)>80 THEN 'Classic'
            WHEN COUNT(first_name)>50 THEN 'Semi -classic'
            WHEN COUNT(first_name)>20 THEN 'Semi-trendy'
            ELSE 'Trendy' END AS popularity_type
FROM baby_names
GROUP BY first_name
ORDER BY first_name;

-- 3. Top-ranked female names since 1920
-- Since we didn't get many traditionally female names in our classic American names search, let's limit it to names which were given to female babies.
-- What are the top 10 ranked female names since 1920?

SELECT first_name, SUM(num), RANK() OVER(ORDER BY SUM(num) DESC) AS name_rank
FROM baby_names
WHERE sex = 'F'
GROUP BY first_name
LIMIT 10;

-- 4. Picking a baby name
-- Perhaps a friend has heard of our work analyzing baby names and would like help choosing a name for her baby, a girl.
-- She doesn't like any of the top-ranked names we found in the previous task.
-- She's set on a traditionally female name ending in the letter 'a' and popular since 2015.

SELECT first_name
FROM baby_names
WHERE sex='F' AND year>2015 AND first_name LIKE '%a'
GROUP BY first_name
ORDER BY sum(num) DESC;

-- 5. The Olivia expansion
-- Based on the previous results, we can see that Olivia is the most popular female name ending in 'A' since 2015. 
-- Let's find out when did the name Olivia become so popular?

SELECT year, first_name, num,
    SUM(num) OVER (ORDER BY year) AS cumulative_olivias
FROM baby_names
WHERE first_name = 'Olivia'
ORDER BY year;

-- 6. Many males with the same name
-- Let's take a look at traditionally male names now. 
-- We saw in the first task that there are nine traditionally male names given to at least 5,000 babies every year.
-- Those names are classics, but doesn't necessarily mean that the timeless names were the most popular.

SELECT year,max(num) AS max_num
FROM baby_names
WHERE sex='M'
GROUP BY year;

-- 7. Top male names over the years
-- We found the maximum number of babies given any one male name in each year.
-- The most popular name each year varied from being given to less than 20,000 babies to being given to more than 90,000!
-- Let's find out what that top male name is for each year in our dataset.

SELECT b.year, b.first_name, b.num
FROM baby_names AS b
INNER JOIN (
    SELECT year, MAX(num) as max_num
    FROM baby_names
    WHERE sex = 'M'
    GROUP BY year) AS subquery 
ON subquery.year = b.year 
    AND subquery.max_num = b.num
ORDER BY year DESC;

-- 8. The most years at number one
-- Liam and Noah have ruled the roost in the last few years.
-- If we scroll down in the results, it looks like Michael and Jacob have also spent a good nr. of years as the top name!
-- Which name has been number one for the largest number of years? 

WITH top_male_names AS (
    SELECT b.year, b.first_name, b.num
    FROM baby_names AS b
    INNER JOIN (
        SELECT year, MAX(num) num
        FROM baby_names
        WHERE sex = 'M'
        GROUP BY year) AS subquery 
    ON subquery.year = b.year 
        AND subquery.num = b.num
    ORDER BY YEAR DESC
    )
SELECT first_name, COUNT(first_name) as count_top_name
FROM top_male_names
GROUP BY first_name
ORDER BY COUNT(first_name) DESC;

-- 9. Top 10 Most common names in 2022
-- Let's find out now what are the most common names in 2022 for both male and female

-- FEMALE
SELECT first_name, year, SUM(num) AS total_occurrences
FROM baby_names
WHERE sex = 'F' AND year = '2022'
GROUP BY first_name, year
ORDER BY total_occurrences DESC
LIMIT 10;

-- MALE
SELECT first_name, year, SUM(num) AS total_occurrences
FROM baby_names
WHERE sex = 'M' AND year = '2022'
GROUP BY first_name, year
ORDER BY total_occurrences DESC
LIMIT 10;

-- FEMALE AND MALE
SELECT first_name, year, SUM(num) AS total_occurrences
FROM baby_names
WHERE year = '2022'
GROUP BY first_name, year
ORDER BY total_occurrences DESC
LIMIT 10;